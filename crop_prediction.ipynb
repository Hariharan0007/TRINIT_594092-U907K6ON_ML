{
 "cells": [
  {
   "cell_type": "code",
   "execution_count": 60,
   "metadata": {},
   "outputs": [],
   "source": [
    "import pandas as pd\n",
    "import lightgbm as lgb\n",
    "from sklearn.model_selection import train_test_split\n",
    "from sklearn.metrics import accuracy_score\n",
    "import pickle\n",
    "\n",
    "import matplotlib.pyplot as plt"
   ]
  },
  {
   "cell_type": "code",
   "execution_count": 61,
   "metadata": {},
   "outputs": [
    {
     "data": {
      "text/html": [
       "<div>\n",
       "<style scoped>\n",
       "    .dataframe tbody tr th:only-of-type {\n",
       "        vertical-align: middle;\n",
       "    }\n",
       "\n",
       "    .dataframe tbody tr th {\n",
       "        vertical-align: top;\n",
       "    }\n",
       "\n",
       "    .dataframe thead th {\n",
       "        text-align: right;\n",
       "    }\n",
       "</style>\n",
       "<table border=\"1\" class=\"dataframe\">\n",
       "  <thead>\n",
       "    <tr style=\"text-align: right;\">\n",
       "      <th></th>\n",
       "      <th>N</th>\n",
       "      <th>P</th>\n",
       "      <th>K</th>\n",
       "      <th>temperature</th>\n",
       "      <th>humidity</th>\n",
       "      <th>ph</th>\n",
       "      <th>rainfall</th>\n",
       "      <th>label</th>\n",
       "    </tr>\n",
       "  </thead>\n",
       "  <tbody>\n",
       "    <tr>\n",
       "      <th>0</th>\n",
       "      <td>90</td>\n",
       "      <td>42</td>\n",
       "      <td>43</td>\n",
       "      <td>20.879744</td>\n",
       "      <td>82.002744</td>\n",
       "      <td>6.502985</td>\n",
       "      <td>202.935536</td>\n",
       "      <td>rice</td>\n",
       "    </tr>\n",
       "    <tr>\n",
       "      <th>1</th>\n",
       "      <td>85</td>\n",
       "      <td>58</td>\n",
       "      <td>41</td>\n",
       "      <td>21.770462</td>\n",
       "      <td>80.319644</td>\n",
       "      <td>7.038096</td>\n",
       "      <td>226.655537</td>\n",
       "      <td>rice</td>\n",
       "    </tr>\n",
       "    <tr>\n",
       "      <th>2</th>\n",
       "      <td>60</td>\n",
       "      <td>55</td>\n",
       "      <td>44</td>\n",
       "      <td>23.004459</td>\n",
       "      <td>82.320763</td>\n",
       "      <td>7.840207</td>\n",
       "      <td>263.964248</td>\n",
       "      <td>rice</td>\n",
       "    </tr>\n",
       "    <tr>\n",
       "      <th>3</th>\n",
       "      <td>74</td>\n",
       "      <td>35</td>\n",
       "      <td>40</td>\n",
       "      <td>26.491096</td>\n",
       "      <td>80.158363</td>\n",
       "      <td>6.980401</td>\n",
       "      <td>242.864034</td>\n",
       "      <td>rice</td>\n",
       "    </tr>\n",
       "    <tr>\n",
       "      <th>4</th>\n",
       "      <td>78</td>\n",
       "      <td>42</td>\n",
       "      <td>42</td>\n",
       "      <td>20.130175</td>\n",
       "      <td>81.604873</td>\n",
       "      <td>7.628473</td>\n",
       "      <td>262.717340</td>\n",
       "      <td>rice</td>\n",
       "    </tr>\n",
       "  </tbody>\n",
       "</table>\n",
       "</div>"
      ],
      "text/plain": [
       "    N   P   K  temperature   humidity        ph    rainfall label\n",
       "0  90  42  43    20.879744  82.002744  6.502985  202.935536  rice\n",
       "1  85  58  41    21.770462  80.319644  7.038096  226.655537  rice\n",
       "2  60  55  44    23.004459  82.320763  7.840207  263.964248  rice\n",
       "3  74  35  40    26.491096  80.158363  6.980401  242.864034  rice\n",
       "4  78  42  42    20.130175  81.604873  7.628473  262.717340  rice"
      ]
     },
     "execution_count": 61,
     "metadata": {},
     "output_type": "execute_result"
    }
   ],
   "source": [
    "df = pd.read_csv('Crop_recommendation.csv')\n",
    "df.head()"
   ]
  },
  {
   "cell_type": "code",
   "execution_count": 62,
   "metadata": {},
   "outputs": [
    {
     "data": {
      "text/html": [
       "<div>\n",
       "<style scoped>\n",
       "    .dataframe tbody tr th:only-of-type {\n",
       "        vertical-align: middle;\n",
       "    }\n",
       "\n",
       "    .dataframe tbody tr th {\n",
       "        vertical-align: top;\n",
       "    }\n",
       "\n",
       "    .dataframe thead th {\n",
       "        text-align: right;\n",
       "    }\n",
       "</style>\n",
       "<table border=\"1\" class=\"dataframe\">\n",
       "  <thead>\n",
       "    <tr style=\"text-align: right;\">\n",
       "      <th></th>\n",
       "      <th>N</th>\n",
       "      <th>P</th>\n",
       "      <th>K</th>\n",
       "      <th>temperature</th>\n",
       "      <th>humidity</th>\n",
       "      <th>ph</th>\n",
       "      <th>rainfall</th>\n",
       "    </tr>\n",
       "  </thead>\n",
       "  <tbody>\n",
       "    <tr>\n",
       "      <th>0</th>\n",
       "      <td>90</td>\n",
       "      <td>42</td>\n",
       "      <td>43</td>\n",
       "      <td>20.879744</td>\n",
       "      <td>82.002744</td>\n",
       "      <td>6.502985</td>\n",
       "      <td>202.935536</td>\n",
       "    </tr>\n",
       "    <tr>\n",
       "      <th>1</th>\n",
       "      <td>85</td>\n",
       "      <td>58</td>\n",
       "      <td>41</td>\n",
       "      <td>21.770462</td>\n",
       "      <td>80.319644</td>\n",
       "      <td>7.038096</td>\n",
       "      <td>226.655537</td>\n",
       "    </tr>\n",
       "    <tr>\n",
       "      <th>2</th>\n",
       "      <td>60</td>\n",
       "      <td>55</td>\n",
       "      <td>44</td>\n",
       "      <td>23.004459</td>\n",
       "      <td>82.320763</td>\n",
       "      <td>7.840207</td>\n",
       "      <td>263.964248</td>\n",
       "    </tr>\n",
       "    <tr>\n",
       "      <th>3</th>\n",
       "      <td>74</td>\n",
       "      <td>35</td>\n",
       "      <td>40</td>\n",
       "      <td>26.491096</td>\n",
       "      <td>80.158363</td>\n",
       "      <td>6.980401</td>\n",
       "      <td>242.864034</td>\n",
       "    </tr>\n",
       "    <tr>\n",
       "      <th>4</th>\n",
       "      <td>78</td>\n",
       "      <td>42</td>\n",
       "      <td>42</td>\n",
       "      <td>20.130175</td>\n",
       "      <td>81.604873</td>\n",
       "      <td>7.628473</td>\n",
       "      <td>262.717340</td>\n",
       "    </tr>\n",
       "    <tr>\n",
       "      <th>...</th>\n",
       "      <td>...</td>\n",
       "      <td>...</td>\n",
       "      <td>...</td>\n",
       "      <td>...</td>\n",
       "      <td>...</td>\n",
       "      <td>...</td>\n",
       "      <td>...</td>\n",
       "    </tr>\n",
       "    <tr>\n",
       "      <th>2195</th>\n",
       "      <td>107</td>\n",
       "      <td>34</td>\n",
       "      <td>32</td>\n",
       "      <td>26.774637</td>\n",
       "      <td>66.413269</td>\n",
       "      <td>6.780064</td>\n",
       "      <td>177.774507</td>\n",
       "    </tr>\n",
       "    <tr>\n",
       "      <th>2196</th>\n",
       "      <td>99</td>\n",
       "      <td>15</td>\n",
       "      <td>27</td>\n",
       "      <td>27.417112</td>\n",
       "      <td>56.636362</td>\n",
       "      <td>6.086922</td>\n",
       "      <td>127.924610</td>\n",
       "    </tr>\n",
       "    <tr>\n",
       "      <th>2197</th>\n",
       "      <td>118</td>\n",
       "      <td>33</td>\n",
       "      <td>30</td>\n",
       "      <td>24.131797</td>\n",
       "      <td>67.225123</td>\n",
       "      <td>6.362608</td>\n",
       "      <td>173.322839</td>\n",
       "    </tr>\n",
       "    <tr>\n",
       "      <th>2198</th>\n",
       "      <td>117</td>\n",
       "      <td>32</td>\n",
       "      <td>34</td>\n",
       "      <td>26.272418</td>\n",
       "      <td>52.127394</td>\n",
       "      <td>6.758793</td>\n",
       "      <td>127.175293</td>\n",
       "    </tr>\n",
       "    <tr>\n",
       "      <th>2199</th>\n",
       "      <td>104</td>\n",
       "      <td>18</td>\n",
       "      <td>30</td>\n",
       "      <td>23.603016</td>\n",
       "      <td>60.396475</td>\n",
       "      <td>6.779833</td>\n",
       "      <td>140.937041</td>\n",
       "    </tr>\n",
       "  </tbody>\n",
       "</table>\n",
       "<p>2200 rows × 7 columns</p>\n",
       "</div>"
      ],
      "text/plain": [
       "        N   P   K  temperature   humidity        ph    rainfall\n",
       "0      90  42  43    20.879744  82.002744  6.502985  202.935536\n",
       "1      85  58  41    21.770462  80.319644  7.038096  226.655537\n",
       "2      60  55  44    23.004459  82.320763  7.840207  263.964248\n",
       "3      74  35  40    26.491096  80.158363  6.980401  242.864034\n",
       "4      78  42  42    20.130175  81.604873  7.628473  262.717340\n",
       "...   ...  ..  ..          ...        ...       ...         ...\n",
       "2195  107  34  32    26.774637  66.413269  6.780064  177.774507\n",
       "2196   99  15  27    27.417112  56.636362  6.086922  127.924610\n",
       "2197  118  33  30    24.131797  67.225123  6.362608  173.322839\n",
       "2198  117  32  34    26.272418  52.127394  6.758793  127.175293\n",
       "2199  104  18  30    23.603016  60.396475  6.779833  140.937041\n",
       "\n",
       "[2200 rows x 7 columns]"
      ]
     },
     "execution_count": 62,
     "metadata": {},
     "output_type": "execute_result"
    }
   ],
   "source": [
    "X = df.drop('label', axis=1)\n",
    "y = df['label']\n",
    "X"
   ]
  },
  {
   "cell_type": "code",
   "execution_count": 63,
   "metadata": {},
   "outputs": [
    {
     "data": {
      "text/plain": [
       "[<matplotlib.lines.Line2D at 0x7f0baff65d20>]"
      ]
     },
     "execution_count": 63,
     "metadata": {},
     "output_type": "execute_result"
    },
    {
     "data": {
      "image/png": "[encoded data removed]",
      "text/plain": [
       "<Figure size 720x432 with 1 Axes>"
      ]
     },
     "metadata": {
      "needs_background": "light"
     },
     "output_type": "display_data"
    }
   ],
   "source": [
    "# visualizing N, P, K values \n",
    "plt.figure(figsize=(10, 6))\n",
    "plt.plot(X['N'], y, 'o')"
   ]
  },
  {
   "cell_type": "code",
   "execution_count": 64,
   "metadata": {},
   "outputs": [
    {
     "data": {
      "text/plain": [
       "[<matplotlib.lines.Line2D at 0x7f0bafe07250>]"
      ]
     },
     "execution_count": 64,
     "metadata": {},
     "output_type": "execute_result"
    },
    {
     "data": {
      "image/png": "[encoded data removed]",
      "text/plain": [
       "<Figure size 720x432 with 1 Axes>"
      ]
     },
     "metadata": {
      "needs_background": "light"
     },
     "output_type": "display_data"
    }
   ],
   "source": [
    "plt.figure(figsize=(10, 6))\n",
    "plt.plot(X['P'], y, 'o')"
   ]
  },
  {
   "cell_type": "code",
   "execution_count": 65,
   "metadata": {},
   "outputs": [
    {
     "data": {
      "text/plain": [
       "[<matplotlib.lines.Line2D at 0x7f0bafe8ff70>]"
      ]
     },
     "execution_count": 65,
     "metadata": {},
     "output_type": "execute_result"
    },
    {
     "data": {
      "image/png": "[encoded data removed]",
      "text/plain": [
       "<Figure size 720x432 with 1 Axes>"
      ]
     },
     "metadata": {
      "needs_background": "light"
     },
     "output_type": "display_data"
    }
   ],
   "source": [
    "plt.figure(figsize=(10, 6))\n",
    "plt.plot(X['K'], y, 'o')"
   ]
  },
  {
   "cell_type": "code",
   "execution_count": 66,
   "metadata": {},
   "outputs": [],
   "source": [
    "X_train, X_test, Y_train, Y_test = train_test_split(X, y, test_size = 0.3,\n",
    "                                                    shuffle = True, random_state = 0)"
   ]
  },
  {
   "cell_type": "code",
   "execution_count": 67,
   "metadata": {},
   "outputs": [
    {
     "data": {
      "text/html": [
       "<style>#sk-container-id-3 {color: black;background-color: white;}#sk-container-id-3 pre{padding: 0;}#sk-container-id-3 div.sk-toggleable {background-color: white;}#sk-container-id-3 label.sk-toggleable__label {cursor: pointer;display: block;width: 100%;margin-bottom: 0;padding: 0.3em;box-sizing: border-box;text-align: center;}#sk-container-id-3 label.sk-toggleable__label-arrow:before {content: \"▸\";float: left;margin-right: 0.25em;color: #696969;}#sk-container-id-3 label.sk-toggleable__label-arrow:hover:before {color: black;}#sk-container-id-3 div.sk-estimator:hover label.sk-toggleable__label-arrow:before {color: black;}#sk-container-id-3 div.sk-toggleable__content {max-height: 0;max-width: 0;overflow: hidden;text-align: left;background-color: #f0f8ff;}#sk-container-id-3 div.sk-toggleable__content pre {margin: 0.2em;color: black;border-radius: 0.25em;background-color: #f0f8ff;}#sk-container-id-3 input.sk-toggleable__control:checked~div.sk-toggleable__content {max-height: 200px;max-width: 100%;overflow: auto;}#sk-container-id-3 input.sk-toggleable__control:checked~label.sk-toggleable__label-arrow:before {content: \"▾\";}#sk-container-id-3 div.sk-estimator input.sk-toggleable__control:checked~label.sk-toggleable__label {background-color: #d4ebff;}#sk-container-id-3 div.sk-label input.sk-toggleable__control:checked~label.sk-toggleable__label {background-color: #d4ebff;}#sk-container-id-3 input.sk-hidden--visually {border: 0;clip: rect(1px 1px 1px 1px);clip: rect(1px, 1px, 1px, 1px);height: 1px;margin: -1px;overflow: hidden;padding: 0;position: absolute;width: 1px;}#sk-container-id-3 div.sk-estimator {font-family: monospace;background-color: #f0f8ff;border: 1px dotted black;border-radius: 0.25em;box-sizing: border-box;margin-bottom: 0.5em;}#sk-container-id-3 div.sk-estimator:hover {background-color: #d4ebff;}#sk-container-id-3 div.sk-parallel-item::after {content: \"\";width: 100%;border-bottom: 1px solid gray;flex-grow: 1;}#sk-container-id-3 div.sk-label:hover label.sk-toggleable__label {background-color: #d4ebff;}#sk-container-id-3 div.sk-serial::before {content: \"\";position: absolute;border-left: 1px solid gray;box-sizing: border-box;top: 0;bottom: 0;left: 50%;z-index: 0;}#sk-container-id-3 div.sk-serial {display: flex;flex-direction: column;align-items: center;background-color: white;padding-right: 0.2em;padding-left: 0.2em;position: relative;}#sk-container-id-3 div.sk-item {position: relative;z-index: 1;}#sk-container-id-3 div.sk-parallel {display: flex;align-items: stretch;justify-content: center;background-color: white;position: relative;}#sk-container-id-3 div.sk-item::before, #sk-container-id-3 div.sk-parallel-item::before {content: \"\";position: absolute;border-left: 1px solid gray;box-sizing: border-box;top: 0;bottom: 0;left: 50%;z-index: -1;}#sk-container-id-3 div.sk-parallel-item {display: flex;flex-direction: column;z-index: 1;position: relative;background-color: white;}#sk-container-id-3 div.sk-parallel-item:first-child::after {align-self: flex-end;width: 50%;}#sk-container-id-3 div.sk-parallel-item:last-child::after {align-self: flex-start;width: 50%;}#sk-container-id-3 div.sk-parallel-item:only-child::after {width: 0;}#sk-container-id-3 div.sk-dashed-wrapped {border: 1px dashed gray;margin: 0 0.4em 0.5em 0.4em;box-sizing: border-box;padding-bottom: 0.4em;background-color: white;}#sk-container-id-3 div.sk-label label {font-family: monospace;font-weight: bold;display: inline-block;line-height: 1.2em;}#sk-container-id-3 div.sk-label-container {text-align: center;}#sk-container-id-3 div.sk-container {/* jupyter's `normalize.less` sets `[hidden] { display: none; }` but bootstrap.min.css set `[hidden] { display: none !important; }` so we also need the `!important` here to be able to override the default hidden behavior on the sphinx rendered scikit-learn.org. See: https://github.com/scikit-learn/scikit-learn/issues/21755 */display: inline-block !important;position: relative;}#sk-container-id-3 div.sk-text-repr-fallback {display: none;}</style><div id=\"sk-container-id-3\" class=\"sk-top-container\"><div class=\"sk-text-repr-fallback\"><pre>LGBMClassifier()</pre><b>In a Jupyter environment, please rerun this cell to show the HTML representation or trust the notebook. <br />On GitHub, the HTML representation is unable to render, please try loading this page with nbviewer.org.</b></div><div class=\"sk-container\" hidden><div class=\"sk-item\"><div class=\"sk-estimator sk-toggleable\"><input class=\"sk-toggleable__control sk-hidden--visually\" id=\"sk-estimator-id-3\" type=\"checkbox\" checked><label for=\"sk-estimator-id-3\" class=\"sk-toggleable__label sk-toggleable__label-arrow\">LGBMClassifier</label><div class=\"sk-toggleable__content\"><pre>LGBMClassifier()</pre></div></div></div></div></div>"
      ],
      "text/plain": [
       "LGBMClassifier()"
      ]
     },
     "execution_count": 67,
     "metadata": {},
     "output_type": "execute_result"
    }
   ],
   "source": [
    "model = lgb.LGBMClassifier()\n",
    "model.fit(X_train, Y_train)"
   ]
  },
  {
   "cell_type": "code",
   "execution_count": 68,
   "metadata": {},
   "outputs": [],
   "source": [
    "y_pred = model.predict(X_test)"
   ]
  },
  {
   "cell_type": "code",
   "execution_count": 69,
   "metadata": {},
   "outputs": [
    {
     "data": {
      "text/plain": [
       "0.9893939393939394"
      ]
     },
     "execution_count": 69,
     "metadata": {},
     "output_type": "execute_result"
    }
   ],
   "source": [
    "accuracy = accuracy_score(Y_test, y_pred)\n",
    "accuracy"
   ]
  },
  {
   "cell_type": "code",
   "execution_count": 70,
   "metadata": {},
   "outputs": [
    {
     "name": "stdout",
     "output_type": "stream",
     "text": [
      "1.0\n"
     ]
    }
   ],
   "source": [
    "y_pred_train = model.predict(X_train)\n",
    "print(accuracy_score(Y_train, y_pred_train))"
   ]
  },
  {
   "cell_type": "code",
   "execution_count": 71,
   "metadata": {},
   "outputs": [
    {
     "name": "stdout",
     "output_type": "stream",
     "text": [
      "1.0\n",
      "0.9893939393939394\n"
     ]
    }
   ],
   "source": [
    "# model score\n",
    "print(model.score(X_train, Y_train))\n",
    "print(model.score(X_test, Y_test))"
   ]
  },
  {
   "cell_type": "code",
   "execution_count": 72,
   "metadata": {},
   "outputs": [
    {
     "data": {
      "text/plain": [
       "array(['chickpea'], dtype=object)"
      ]
     },
     "execution_count": 72,
     "metadata": {},
     "output_type": "execute_result"
    }
   ],
   "source": [
    "res = model.predict([[40,72,77,17.02498456,16.98861173,7.485996067,88.55123143]]) # chickpea\n",
    "res"
   ]
  },
  {
   "cell_type": "code",
   "execution_count": 73,
   "metadata": {},
   "outputs": [
    {
     "data": {
      "text/plain": [
       "array(['maize'], dtype=object)"
      ]
     },
     "execution_count": 73,
     "metadata": {},
     "output_type": "execute_result"
    }
   ],
   "source": [
    "res = model.predict([[67,35,22,23.30546753,63.24648023,6.3856842139999985,108.7603001]]) # maize\n",
    "res"
   ]
  },
  {
   "cell_type": "code",
   "execution_count": 74,
   "metadata": {},
   "outputs": [],
   "source": [
    "# save the model to disk\n",
    "pickle.dump(model, open('model.pkl', 'wb'))"
   ]
  },
  {
   "cell_type": "code",
   "execution_count": 75,
   "metadata": {},
   "outputs": [
    {
     "name": "stdout",
     "output_type": "stream",
     "text": [
      "['rice' 'maize' 'chickpea' 'kidneybeans' 'pigeonpeas' 'mothbeans'\n",
      " 'mungbean' 'blackgram' 'lentil' 'pomegranate' 'banana' 'mango' 'grapes'\n",
      " 'watermelon' 'muskmelon' 'apple' 'orange' 'papaya' 'coconut' 'cotton'\n",
      " 'jute' 'coffee']\n"
     ]
    }
   ],
   "source": [
    "# give a list of crops\n",
    "crops = df['label'].unique()\n",
    "print(crops)"
   ]
  },
  {
   "cell_type": "code",
   "execution_count": 76,
   "metadata": {},
   "outputs": [
    {
     "name": "stdout",
     "output_type": "stream",
     "text": [
      "rice\n",
      "N               79.890000\n",
      "P               47.580000\n",
      "K               39.870000\n",
      "temperature     23.689332\n",
      "humidity        82.272822\n",
      "ph               6.425471\n",
      "rainfall       236.181114\n",
      "dtype: float64\n",
      "maize\n",
      "N              77.760000\n",
      "P              48.440000\n",
      "K              19.790000\n",
      "temperature    22.389204\n",
      "humidity       65.092249\n",
      "ph              6.245190\n",
      "rainfall       84.766988\n",
      "dtype: float64\n",
      "chickpea\n",
      "N              40.090000\n",
      "P              67.790000\n",
      "K              79.920000\n",
      "temperature    18.872847\n",
      "humidity       16.860439\n",
      "ph              7.336957\n",
      "rainfall       80.058977\n",
      "dtype: float64\n",
      "kidneybeans\n",
      "N               20.750000\n",
      "P               67.540000\n",
      "K               20.050000\n",
      "temperature     20.115085\n",
      "humidity        21.605357\n",
      "ph               5.749411\n",
      "rainfall       105.919778\n",
      "dtype: float64\n",
      "pigeonpeas\n",
      "N               20.730000\n",
      "P               67.730000\n",
      "K               20.290000\n",
      "temperature     27.741762\n",
      "humidity        48.061633\n",
      "ph               5.794175\n",
      "rainfall       149.457564\n",
      "dtype: float64\n",
      "mothbeans\n",
      "N              21.440000\n",
      "P              48.010000\n",
      "K              20.230000\n",
      "temperature    28.194920\n",
      "humidity       53.160418\n",
      "ph              6.831174\n",
      "rainfall       51.198487\n",
      "dtype: float64\n",
      "mungbean\n",
      "N              20.990000\n",
      "P              47.280000\n",
      "K              19.870000\n",
      "temperature    28.525775\n",
      "humidity       85.499975\n",
      "ph              6.723957\n",
      "rainfall       48.403601\n",
      "dtype: float64\n",
      "blackgram\n",
      "N              40.020000\n",
      "P              67.470000\n",
      "K              19.240000\n",
      "temperature    29.973340\n",
      "humidity       65.118426\n",
      "ph              7.133952\n",
      "rainfall       67.884151\n",
      "dtype: float64\n",
      "lentil\n",
      "N              18.770000\n",
      "P              68.360000\n",
      "K              19.410000\n",
      "temperature    24.509052\n",
      "humidity       64.804785\n",
      "ph              6.927932\n",
      "rainfall       45.680454\n",
      "dtype: float64\n",
      "pomegranate\n",
      "N               18.870000\n",
      "P               18.750000\n",
      "K               40.210000\n",
      "temperature     21.837842\n",
      "humidity        90.125504\n",
      "ph               6.429172\n",
      "rainfall       107.528442\n",
      "dtype: float64\n",
      "banana\n",
      "N              100.230000\n",
      "P               82.010000\n",
      "K               50.050000\n",
      "temperature     27.376798\n",
      "humidity        80.358123\n",
      "ph               5.983893\n",
      "rainfall       104.626980\n",
      "dtype: float64\n",
      "mango\n",
      "N              20.070000\n",
      "P              27.180000\n",
      "K              29.920000\n",
      "temperature    31.208770\n",
      "humidity       50.156573\n",
      "ph              5.766373\n",
      "rainfall       94.704515\n",
      "dtype: float64\n",
      "grapes\n",
      "N               23.180000\n",
      "P              132.530000\n",
      "K              200.110000\n",
      "temperature     23.849575\n",
      "humidity        81.875228\n",
      "ph               6.025937\n",
      "rainfall        69.611829\n",
      "dtype: float64\n",
      "watermelon\n",
      "N              99.420000\n",
      "P              17.000000\n",
      "K              50.220000\n",
      "temperature    25.591767\n",
      "humidity       85.160375\n",
      "ph              6.495778\n",
      "rainfall       50.786219\n",
      "dtype: float64\n",
      "muskmelon\n",
      "N              100.320000\n",
      "P               17.720000\n",
      "K               50.080000\n",
      "temperature     28.663066\n",
      "humidity        92.342802\n",
      "ph               6.358805\n",
      "rainfall        24.689952\n",
      "dtype: float64\n",
      "apple\n",
      "N               20.800000\n",
      "P              134.220000\n",
      "K              199.890000\n",
      "temperature     22.630942\n",
      "humidity        92.333383\n",
      "ph               5.929663\n",
      "rainfall       112.654779\n",
      "dtype: float64\n",
      "orange\n",
      "N               19.580000\n",
      "P               16.550000\n",
      "K               10.010000\n",
      "temperature     22.765725\n",
      "humidity        92.170209\n",
      "ph               7.016957\n",
      "rainfall       110.474969\n",
      "dtype: float64\n",
      "papaya\n",
      "N               49.880000\n",
      "P               59.050000\n",
      "K               50.040000\n",
      "temperature     33.723859\n",
      "humidity        92.403388\n",
      "ph               6.741442\n",
      "rainfall       142.627839\n",
      "dtype: float64\n",
      "coconut\n",
      "N               21.980000\n",
      "P               16.930000\n",
      "K               30.590000\n",
      "temperature     27.409892\n",
      "humidity        94.844272\n",
      "ph               5.976562\n",
      "rainfall       175.686646\n",
      "dtype: float64\n",
      "cotton\n",
      "N              117.770000\n",
      "P               46.240000\n",
      "K               19.560000\n",
      "temperature     23.988958\n",
      "humidity        79.843474\n",
      "ph               6.912675\n",
      "rainfall        80.398043\n",
      "dtype: float64\n",
      "jute\n",
      "N               78.400000\n",
      "P               46.860000\n",
      "K               39.990000\n",
      "temperature     24.958376\n",
      "humidity        79.639864\n",
      "ph               6.732778\n",
      "rainfall       174.792798\n",
      "dtype: float64\n",
      "coffee\n",
      "N              101.200000\n",
      "P               28.740000\n",
      "K               29.940000\n",
      "temperature     25.540477\n",
      "humidity        58.869846\n",
      "ph               6.790308\n",
      "rainfall       158.066295\n",
      "dtype: float64\n",
      "rice grapes 0.041235645696430234\n",
      "maize chickpea 0.04177224796040546\n",
      "maize pigeonpeas 0.04721810843443763\n",
      "maize blackgram 0.0851930884734654\n",
      "maize pomegranate 0.0638943509883726\n",
      "maize watermelon 0.03140531006743785\n",
      "maize muskmelon 0.013279577455887703\n",
      "chickpea maize 0.043593235398883934\n",
      "chickpea pigeonpeas 0.09286973394939402\n",
      "chickpea blackgram 0.04531369543476316\n",
      "chickpea pomegranate 0.023086477072783662\n",
      "chickpea watermelon 0.07636760454086655\n",
      "chickpea muskmelon 0.02973475819696403\n",
      "kidneybeans mungbean 0.016950019868799182\n",
      "kidneybeans lentil 0.050691267584215605\n",
      "kidneybeans mango 0.010405389929561304\n",
      "kidneybeans orange 0.06433444665672172\n",
      "pigeonpeas maize 0.04508908703367198\n",
      "pigeonpeas chickpea 0.08497786247019856\n",
      "pigeonpeas watermelon 0.015099813725184208\n",
      "pigeonpeas muskmelon 0.05776990046588071\n",
      "pigeonpeas coconut 0.09891621562231956\n",
      "mothbeans lentil 0.08467999583813879\n",
      "mungbean kidneybeans 0.017242276803196566\n",
      "mungbean lentil 0.03432302364821094\n",
      "mungbean mango 0.006657474260224561\n",
      "mungbean orange 0.08268599579715397\n",
      "blackgram maize 0.09312685267244425\n",
      "blackgram chickpea 0.04746448673043324\n",
      "blackgram pomegranate 0.023282221872976017\n",
      "blackgram muskmelon 0.07861058996326986\n",
      "blackgram orange 0.061555099608379904\n",
      "lentil kidneybeans 0.053398084156686565\n",
      "lentil mothbeans 0.07806910440226755\n",
      "lentil mungbean 0.03554296570047599\n",
      "lentil mango 0.042437066339983565\n",
      "pomegranate maize 0.06825549130681408\n",
      "pomegranate chickpea 0.02363205803888091\n",
      "pomegranate blackgram 0.022752493276352648\n",
      "pomegranate muskmelon 0.05406950976732783\n",
      "pomegranate orange 0.08290706089476763\n",
      "banana papaya 0.03588100858525811\n",
      "banana jute 0.0016377320197180634\n",
      "banana coffee 0.09206740498727806\n",
      "mango kidneybeans 0.010514800529098034\n",
      "mango mungbean 0.006613445417585684\n",
      "mango lentil 0.040709475622332625\n",
      "mango orange 0.07552571105956507\n",
      "grapes rice 0.03960260664035353\n",
      "grapes apple 0.09545395238397258\n",
      "watermelon maize 0.0304490482654044\n",
      "watermelon chickpea 0.07094937103150911\n",
      "watermelon pigeonpeas 0.015331313706312022\n",
      "watermelon pomegranate 0.09239787707664537\n",
      "watermelon muskmelon 0.043324275226393594\n",
      "muskmelon maize 0.01345829796615372\n",
      "muskmelon chickpea 0.02887613335401895\n",
      "muskmelon pigeonpeas 0.06131188177330005\n",
      "muskmelon blackgram 0.07288134447664452\n",
      "muskmelon pomegranate 0.0512959622361745\n",
      "muskmelon watermelon 0.045286270054198496\n",
      "apple grapes 0.08713643524334513\n",
      "orange kidneybeans 0.06044570563210505\n",
      "orange mungbean 0.07637116958945644\n",
      "orange blackgram 0.06559266248097506\n",
      "orange pomegranate 0.09040202727507252\n",
      "orange mango 0.07022213442499692\n",
      "papaya banana 0.037216369457266474\n",
      "papaya jute 0.038915051916902366\n",
      "papaya coffee 0.05827745008898999\n",
      "coconut pigeonpeas 0.09001251798464283\n",
      "coconut cotton 0.0034700550991162427\n",
      "coconut coffee 0.09568262500740432\n",
      "cotton pigeonpeas 0.093159305161852\n",
      "cotton coconut 0.003458055456147524\n",
      "cotton coffee 0.09189369372779121\n",
      "jute banana 0.0016350542390368705\n",
      "jute papaya 0.037457395429106755\n",
      "jute coffee 0.09355192402551338\n",
      "coffee papaya 0.06188388511509779\n",
      "coffee coconut 0.08732695291828474\n",
      "coffee cotton 0.08415992715743292\n",
      "rice [('grapes', 0.041235645696430234)]\n",
      "maize [('muskmelon', 0.013279577455887703), ('watermelon', 0.03140531006743785), ('chickpea', 0.04177224796040546), ('pigeonpeas', 0.04721810843443763), ('pomegranate', 0.0638943509883726), ('blackgram', 0.0851930884734654)]\n",
      "chickpea [('pomegranate', 0.023086477072783662), ('muskmelon', 0.02973475819696403), ('maize', 0.043593235398883934), ('blackgram', 0.04531369543476316), ('watermelon', 0.07636760454086655), ('pigeonpeas', 0.09286973394939402)]\n",
      "kidneybeans [('mango', 0.010405389929561304), ('mungbean', 0.016950019868799182), ('lentil', 0.050691267584215605), ('orange', 0.06433444665672172)]\n",
      "pigeonpeas [('watermelon', 0.015099813725184208), ('maize', 0.04508908703367198), ('muskmelon', 0.05776990046588071), ('chickpea', 0.08497786247019856), ('coconut', 0.09891621562231956)]\n",
      "mothbeans [('lentil', 0.08467999583813879)]\n",
      "mungbean [('mango', 0.006657474260224561), ('kidneybeans', 0.017242276803196566), ('lentil', 0.03432302364821094), ('orange', 0.08268599579715397)]\n",
      "blackgram [('pomegranate', 0.023282221872976017), ('chickpea', 0.04746448673043324), ('orange', 0.061555099608379904), ('muskmelon', 0.07861058996326986), ('maize', 0.09312685267244425)]\n",
      "lentil [('mungbean', 0.03554296570047599), ('mango', 0.042437066339983565), ('kidneybeans', 0.053398084156686565), ('mothbeans', 0.07806910440226755)]\n",
      "pomegranate [('blackgram', 0.022752493276352648), ('chickpea', 0.02363205803888091), ('muskmelon', 0.05406950976732783), ('maize', 0.06825549130681408), ('orange', 0.08290706089476763)]\n",
      "banana [('jute', 0.0016377320197180634), ('papaya', 0.03588100858525811), ('coffee', 0.09206740498727806)]\n",
      "mango [('mungbean', 0.006613445417585684), ('kidneybeans', 0.010514800529098034), ('lentil', 0.040709475622332625), ('orange', 0.07552571105956507)]\n",
      "grapes [('rice', 0.03960260664035353), ('apple', 0.09545395238397258)]\n",
      "watermelon [('pigeonpeas', 0.015331313706312022), ('maize', 0.0304490482654044), ('muskmelon', 0.043324275226393594), ('chickpea', 0.07094937103150911), ('pomegranate', 0.09239787707664537)]\n",
      "muskmelon [('maize', 0.01345829796615372), ('chickpea', 0.02887613335401895), ('watermelon', 0.045286270054198496), ('pomegranate', 0.0512959622361745), ('pigeonpeas', 0.06131188177330005), ('blackgram', 0.07288134447664452)]\n",
      "apple [('grapes', 0.08713643524334513)]\n",
      "orange [('kidneybeans', 0.06044570563210505), ('blackgram', 0.06559266248097506), ('mango', 0.07022213442499692), ('mungbean', 0.07637116958945644), ('pomegranate', 0.09040202727507252)]\n",
      "papaya [('banana', 0.037216369457266474), ('jute', 0.038915051916902366), ('coffee', 0.05827745008898999)]\n",
      "coconut [('cotton', 0.0034700550991162427), ('pigeonpeas', 0.09001251798464283), ('coffee', 0.09568262500740432)]\n",
      "cotton [('coconut', 0.003458055456147524), ('coffee', 0.09189369372779121), ('pigeonpeas', 0.093159305161852)]\n",
      "jute [('banana', 0.0016350542390368705), ('papaya', 0.037457395429106755), ('coffee', 0.09355192402551338)]\n",
      "coffee [('papaya', 0.06188388511509779), ('cotton', 0.08415992715743292), ('coconut', 0.08732695291828474)]\n"
     ]
    },
    {
     "name": "stderr",
     "output_type": "stream",
     "text": [
      "/tmp/ipykernel_70456/2832917248.py:8: FutureWarning: Dropping of nuisance columns in DataFrame reductions (with 'numeric_only=None') is deprecated; in a future version this will raise TypeError.  Select only valid columns before calling the reduction.\n",
      "  avg[crop] = df[df['label'] == crop].mean()\n"
     ]
    }
   ],
   "source": [
    "# segregate similar crops according to paramaters\n",
    "# N, P, K, temperature, humidity, ph, rainfall\n",
    "# if the parameters are in the range of the crop, then it is a similar crop\n",
    "\n",
    "# get avg N, P, K, temperature, humidity, ph, rainfall for each crop\n",
    "avg = {}\n",
    "for crop in crops:\n",
    "    avg[crop] = df[df['label'] == crop].mean()\n",
    "    print(crop)\n",
    "    print(avg[crop])\n",
    "    \n",
    "similar_crops = {}\n",
    "for crop in crops:\n",
    "    similar_crops[crop] = []\n",
    "    \n",
    "    # if the combined value of N, P, K, temperature, humidity, ph, rainfall is in the range of the crop, then it is a similar crop\n",
    "    for crop2 in crops:\n",
    "        if crop2 == crop:\n",
    "            continue\n",
    "        if 0.9 * (avg[crop]['N'] + avg[crop]['P'] + avg[crop]['K'] + avg[crop]['temperature'] + avg[crop]['humidity'] + avg[crop]['ph'] + avg[crop]['rainfall']) <= (avg[crop2]['N'] + avg[crop2]['P'] + avg[crop2]['K'] + avg[crop2]['temperature'] + avg[crop2]['humidity'] + avg[crop2]['ph'] + avg[crop2]['rainfall']) <= 1.1 * (avg[crop]['N'] + avg[crop]['P'] + avg[crop]['K'] + avg[crop]['temperature'] + avg[crop]['humidity'] + avg[crop]['ph'] + avg[crop]['rainfall']):\n",
    "            similarity = abs(1 - (avg[crop2]['N'] + avg[crop2]['P'] + avg[crop2]['K'] + avg[crop2]['temperature'] + avg[crop2]['humidity'] + avg[crop2]['ph'] + avg[crop2]['rainfall']) / (avg[crop]['N'] + avg[crop]['P'] + avg[crop]['K'] + avg[crop]['temperature'] + avg[crop]['humidity'] + avg[crop]['ph'] + avg[crop]['rainfall']))\n",
    "            print(crop, crop2, similarity)\n",
    "            similar_crops[crop].append((crop2, similarity))\n",
    "                                        \n",
    "# order the similar crops according to similarity\n",
    "for crop in crops:\n",
    "    similar_crops[crop] = sorted(similar_crops[crop], key=lambda x: x[1])\n",
    "    print(crop, similar_crops[crop])"
   ]
  }
 ],
 "metadata": {
  "kernelspec": {
   "display_name": "Python 3",
   "language": "python",
   "name": "python3"
  },
  "language_info": {
   "codemirror_mode": {
    "name": "ipython",
    "version": 3
   },
   "file_extension": ".py",
   "mimetype": "text/x-python",
   "name": "python",
   "nbconvert_exporter": "python",
   "pygments_lexer": "ipython3",
   "version": "3.10.9"
  },
  "orig_nbformat": 4
 },
 "nbformat": 4,
 "nbformat_minor": 2
}
